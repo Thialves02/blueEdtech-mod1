{
  "nbformat": 4,
  "nbformat_minor": 0,
  "metadata": {
    "colab": {
      "name": "manipulando_strings.ipynb",
      "provenance": [],
      "authorship_tag": "ABX9TyNcmE3kUnspVyMU4zhbIa5I",
      "include_colab_link": true
    },
    "kernelspec": {
      "name": "python3",
      "display_name": "Python 3"
    },
    "language_info": {
      "name": "python"
    }
  },
  "cells": [
    {
      "cell_type": "markdown",
      "metadata": {
        "id": "view-in-github",
        "colab_type": "text"
      },
      "source": [
        "<a href=\"https://colab.research.google.com/github/Thialves02/blueEdtech-mod1/blob/main/manipulando_strings.ipynb\" target=\"_parent\"><img src=\"https://colab.research.google.com/assets/colab-badge.svg\" alt=\"Open In Colab\"/></a>"
      ]
    },
    {
      "cell_type": "code",
      "metadata": {
        "colab": {
          "base_uri": "https://localhost:8080/"
        },
        "id": "rLie4UHz-v7m",
        "outputId": "2e2153d5-f5e1-41ac-ae17-4ca671b73d13"
      },
      "source": [
        "var1 = \"Primeira frase\"\n",
        "var2 = \"Segunda frase\"\n",
        "var0 = input(\"Digite qualquer coisa\")\n",
        "\n",
        "print(len(var1))#Conta a quantidade de caracteres de uma string\n",
        "print(var0.capitalize())#Deixa o primeiro caracter em maiusculo e o resto minusculo\n",
        "print(var1.count(\"a\"))#Conta quantas vezes um caractere ou sequencia de caracteres aparece na string\n",
        "print(var1.startswith('Pri'))#Verifica se a string se inicia com o que foi passado como argumento e retorna True ou False\n",
        "print(var1.upper())#Todos os carecteres em maiusculo\n",
        "print(var1.lower())#Todos os carecteres em minusculo\n",
        "print(var1.title())#Todos caracteres depois do espaço fica em maiusculo\n",
        "print(var1.split())#Transforma cada elemento depois do espaço em um elemento de lista\n",
        "print(var1.replace(\"a\",\"x\"))#Transforma os \"caracteres1\" pelos \"caracteres2\""
      ],
      "execution_count": null,
      "outputs": [
        {
          "output_type": "stream",
          "text": [
            "Digite qualquer coisaasda\n",
            "14\n",
            "Asda\n",
            "2\n",
            "True\n",
            "PRIMEIRA FRASE\n",
            "primeira frase\n",
            "Primeira Frase\n",
            "['Primeira', 'frase']\n",
            "Primeirx frxse\n"
          ],
          "name": "stdout"
        }
      ]
    }
  ]
}